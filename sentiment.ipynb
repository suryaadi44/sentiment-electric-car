{
 "cells": [
  {
   "cell_type": "code",
   "execution_count": 2,
   "metadata": {},
   "outputs": [],
   "source": [
    "import numpy as np\n",
    "import pandas as pd\n",
    "import matplotlib.pyplot as plt\n",
    "import seaborn as sns\n",
    "\n",
    "import re\n",
    "from nltk.tokenize import word_tokenize\n",
    "\n",
    "from sklearn.preprocessing import LabelEncoder\n",
    "from sklearn.svm import SVC\n",
    "from sklearn.model_selection import train_test_split, StratifiedKFold, cross_val_score\n",
    "from sklearn.pipeline import make_pipeline, Pipeline\n",
    "from sklearn.model_selection import GridSearchCV\n",
    "from sklearn.metrics import make_scorer, accuracy_score, f1_score\n",
    "from sklearn.metrics import roc_curve, auc\n",
    "from sklearn.metrics import confusion_matrix, roc_auc_score, recall_score, precision_score\n",
    "from sklearn.feature_extraction.text import TfidfVectorizer\n",
    "\n",
    "from Sastrawi.StopWordRemover.StopWordRemoverFactory import StopWordRemoverFactory\n",
    "from Sastrawi.Stemmer.StemmerFactory import StemmerFactory\n",
    "from sklearn.base import BaseEstimator, TransformerMixin"
   ]
  },
  {
   "cell_type": "markdown",
   "metadata": {},
   "source": [
    "## Prepare"
   ]
  },
  {
   "cell_type": "code",
   "execution_count": 14,
   "metadata": {},
   "outputs": [],
   "source": [
    "df = pd.read_csv('./mobil_listrik.csv')"
   ]
  },
  {
   "cell_type": "code",
   "execution_count": 17,
   "metadata": {},
   "outputs": [
    {
     "data": {
      "text/html": [
       "<div>\n",
       "<style scoped>\n",
       "    .dataframe tbody tr th:only-of-type {\n",
       "        vertical-align: middle;\n",
       "    }\n",
       "\n",
       "    .dataframe tbody tr th {\n",
       "        vertical-align: top;\n",
       "    }\n",
       "\n",
       "    .dataframe thead th {\n",
       "        text-align: right;\n",
       "    }\n",
       "</style>\n",
       "<table border=\"1\" class=\"dataframe\">\n",
       "  <thead>\n",
       "    <tr style=\"text-align: right;\">\n",
       "      <th></th>\n",
       "      <th>id_komentar</th>\n",
       "      <th>nama_akun</th>\n",
       "      <th>tanggal</th>\n",
       "      <th>tweet</th>\n",
       "      <th>label</th>\n",
       "    </tr>\n",
       "  </thead>\n",
       "  <tbody>\n",
       "    <tr>\n",
       "      <th>0</th>\n",
       "      <td>Ugzbll5eyrIy3-gdUUJ4AaABAg</td>\n",
       "      <td>Sqn Ldr</td>\n",
       "      <td>2023-08-06 12:54:49+00:00</td>\n",
       "      <td>saran sih bikin   harga ionic sama kayak brio ...</td>\n",
       "      <td>positif</td>\n",
       "    </tr>\n",
       "    <tr>\n",
       "      <th>1</th>\n",
       "      <td>UgzEDUiV3OTrV943p8p4AaABAg</td>\n",
       "      <td>lushen ace</td>\n",
       "      <td>2023-08-04 12:16:23+00:00</td>\n",
       "      <td>problem subsidi kualitas diturunin harga dinai...</td>\n",
       "      <td>negatif</td>\n",
       "    </tr>\n",
       "    <tr>\n",
       "      <th>2</th>\n",
       "      <td>UgwqJqu6JMF4EH2CsVV4AaABAg</td>\n",
       "      <td>Fatih Al-Ayyubi</td>\n",
       "      <td>2023-08-04 10:17:57+00:00</td>\n",
       "      <td>baik kualitas kembang dulu baik kualitas motor...</td>\n",
       "      <td>positif</td>\n",
       "    </tr>\n",
       "    <tr>\n",
       "      <th>3</th>\n",
       "      <td>UgyYicCMR1rKwuOj2Y14AaABAg</td>\n",
       "      <td>yp office</td>\n",
       "      <td>2023-08-04 08:29:54+00:00</td>\n",
       "      <td>model jelek kwalitas buruk harga mahal croot</td>\n",
       "      <td>negatif</td>\n",
       "    </tr>\n",
       "    <tr>\n",
       "      <th>4</th>\n",
       "      <td>UgxKAcLuAwZOQK6es-x4AaABAg</td>\n",
       "      <td>Lembur Kuring</td>\n",
       "      <td>2023-08-04 07:55:37+00:00</td>\n",
       "      <td>syarat   ngaco woy anak muda   blom punya ruma...</td>\n",
       "      <td>negatif</td>\n",
       "    </tr>\n",
       "  </tbody>\n",
       "</table>\n",
       "</div>"
      ],
      "text/plain": [
       "                  id_komentar        nama_akun                    tanggal  \\\n",
       "0  Ugzbll5eyrIy3-gdUUJ4AaABAg          Sqn Ldr  2023-08-06 12:54:49+00:00   \n",
       "1  UgzEDUiV3OTrV943p8p4AaABAg       lushen ace  2023-08-04 12:16:23+00:00   \n",
       "2  UgwqJqu6JMF4EH2CsVV4AaABAg  Fatih Al-Ayyubi  2023-08-04 10:17:57+00:00   \n",
       "3  UgyYicCMR1rKwuOj2Y14AaABAg        yp office  2023-08-04 08:29:54+00:00   \n",
       "4  UgxKAcLuAwZOQK6es-x4AaABAg    Lembur Kuring  2023-08-04 07:55:37+00:00   \n",
       "\n",
       "                                               tweet    label  \n",
       "0  saran sih bikin   harga ionic sama kayak brio ...  positif  \n",
       "1  problem subsidi kualitas diturunin harga dinai...  negatif  \n",
       "2  baik kualitas kembang dulu baik kualitas motor...  positif  \n",
       "3       model jelek kwalitas buruk harga mahal croot  negatif  \n",
       "4  syarat   ngaco woy anak muda   blom punya ruma...  negatif  "
      ]
     },
     "execution_count": 17,
     "metadata": {},
     "output_type": "execute_result"
    }
   ],
   "source": [
    "df.head()"
   ]
  },
  {
   "cell_type": "markdown",
   "metadata": {},
   "source": [
    "## Preprocess"
   ]
  },
  {
   "cell_type": "code",
   "execution_count": 16,
   "metadata": {},
   "outputs": [],
   "source": [
    "# rename column text_clean to tweet\n",
    "df.rename(columns={'text_cleaning': 'tweet'}, inplace=True)\n",
    "df.rename(columns={'sentimen': 'label'}, inplace=True)"
   ]
  },
  {
   "cell_type": "code",
   "execution_count": 18,
   "metadata": {},
   "outputs": [
    {
     "name": "stdout",
     "output_type": "stream",
     "text": [
      "<class 'pandas.core.frame.DataFrame'>\n",
      "Index: 1515 entries, 0 to 1516\n",
      "Data columns (total 5 columns):\n",
      " #   Column       Non-Null Count  Dtype \n",
      "---  ------       --------------  ----- \n",
      " 0   id_komentar  1515 non-null   object\n",
      " 1   nama_akun    1514 non-null   object\n",
      " 2   tanggal      1515 non-null   object\n",
      " 3   tweet        1515 non-null   object\n",
      " 4   label        1515 non-null   object\n",
      "dtypes: object(5)\n",
      "memory usage: 71.0+ KB\n"
     ]
    }
   ],
   "source": [
    "# remove blank \n",
    "df = df[df['tweet'].notnull()]\n",
    "df.info()"
   ]
  },
  {
   "cell_type": "code",
   "execution_count": 19,
   "metadata": {},
   "outputs": [
    {
     "name": "stdout",
     "output_type": "stream",
     "text": [
      "<class 'pandas.core.frame.DataFrame'>\n",
      "Index: 1373 entries, 0 to 1516\n",
      "Data columns (total 5 columns):\n",
      " #   Column       Non-Null Count  Dtype \n",
      "---  ------       --------------  ----- \n",
      " 0   id_komentar  1373 non-null   object\n",
      " 1   nama_akun    1372 non-null   object\n",
      " 2   tanggal      1373 non-null   object\n",
      " 3   tweet        1373 non-null   object\n",
      " 4   label        1373 non-null   object\n",
      "dtypes: object(5)\n",
      "memory usage: 64.4+ KB\n"
     ]
    }
   ],
   "source": [
    "# Remove non ngetif or positif label\n",
    "df = df[(df.label == 'positif') | (df.label == 'negatif')]\n",
    "df.info()"
   ]
  },
  {
   "cell_type": "code",
   "execution_count": 20,
   "metadata": {},
   "outputs": [],
   "source": [
    "def regexOperation(tweet):\n",
    "    # Remove Non-ascii\n",
    "    res = re.sub(r'[^\\x00-\\x7F]+',' ', tweet)\n",
    "\n",
    "    # Remove url\n",
    "    res = re.sub(r'http[s]?\\:\\/\\/.[a-zA-Z0-9\\.\\/\\_?=%&#\\-\\+!]+',' ', res)\n",
    "    res = re.sub(r'pic.twitter.com?.[a-zA-Z0-9\\.\\/\\_?=%&#\\-\\+!]+',' ', res)\n",
    "    # Remove mention\n",
    "    res = re.sub(r'\\@([\\w]+)',' ', res)\n",
    "    \n",
    "    # Remove hashtag\n",
    "    # res = re.sub(r'\\#([\\w]+)',' ', res)\n",
    "    # Proccessing hashtag (split camel case)   \n",
    "    res = re.sub(r'((?<=[a-z])[A-Z]|[A-Z](?=[a-z]))', ' \\\\1', res)\n",
    "    #res = re.sub(r'([A-Z])(?<=[a-z]\\1|[A-Za-z]\\1(?=[a-z]))',' \\\\1', res)\n",
    "    \n",
    "    \n",
    "    # Remove special character\n",
    "    res = re.sub(r'[!$%^&*@#()_+|~=`{}\\[\\]%\\-:\";\\'<>?,.\\/]', ' ', res)\n",
    "    # Remove number\n",
    "    res = re.sub(r'[0-9]+','', res)\n",
    "    # Remove consecutive alphabetic characters\n",
    "    res = re.sub(r'([a-zA-Z])\\1\\1','\\\\1', res)\n",
    "    # Remove consecutive whitespace\n",
    "    res = re.sub(' +', ' ', res)\n",
    "    # Remove trailing and leading whitespace\n",
    "    res = re.sub(r'^[ ]|[ ]$','', res)\n",
    "    \n",
    "    # Convert to lower case\n",
    "    res = res.lower()\n",
    "\n",
    "    return res"
   ]
  },
  {
   "cell_type": "code",
   "execution_count": 21,
   "metadata": {},
   "outputs": [],
   "source": [
    "# Tokenization using NLTK\n",
    "\n",
    "def tokenize(tweet):\n",
    "    return word_tokenize(tweet)\n"
   ]
  },
  {
   "cell_type": "code",
   "execution_count": 22,
   "metadata": {},
   "outputs": [],
   "source": [
    "# Stopwords removal\n",
    "stopwordFactory = StopWordRemoverFactory()\n",
    "\n",
    "stopwords = stopwordFactory.get_stop_words()\n",
    "\n",
    "def remove_stopwords(tweet):\n",
    "    return [word for word in tweet if word not in stopwords]\n"
   ]
  },
  {
   "cell_type": "code",
   "execution_count": 23,
   "metadata": {},
   "outputs": [],
   "source": [
    "# Stemming using Sastrawi\n",
    "stemmerFactory = StemmerFactory()\n",
    "\n",
    "stemmer = stemmerFactory.create_stemmer()\n",
    "\n",
    "def stemming(tweet):\n",
    "    return [stemmer.stem(word) for word in tweet]\n"
   ]
  },
  {
   "cell_type": "code",
   "execution_count": 24,
   "metadata": {},
   "outputs": [
    {
     "data": {
      "text/html": [
       "<div>\n",
       "<style scoped>\n",
       "    .dataframe tbody tr th:only-of-type {\n",
       "        vertical-align: middle;\n",
       "    }\n",
       "\n",
       "    .dataframe tbody tr th {\n",
       "        vertical-align: top;\n",
       "    }\n",
       "\n",
       "    .dataframe thead th {\n",
       "        text-align: right;\n",
       "    }\n",
       "</style>\n",
       "<table border=\"1\" class=\"dataframe\">\n",
       "  <thead>\n",
       "    <tr style=\"text-align: right;\">\n",
       "      <th></th>\n",
       "      <th>id_komentar</th>\n",
       "      <th>nama_akun</th>\n",
       "      <th>tanggal</th>\n",
       "      <th>tweet</th>\n",
       "      <th>label</th>\n",
       "    </tr>\n",
       "  </thead>\n",
       "  <tbody>\n",
       "    <tr>\n",
       "      <th>0</th>\n",
       "      <td>Ugzbll5eyrIy3-gdUUJ4AaABAg</td>\n",
       "      <td>Sqn Ldr</td>\n",
       "      <td>2023-08-06 12:54:49+00:00</td>\n",
       "      <td>saran sih bikin harga ionic sama kayak brio in...</td>\n",
       "      <td>positif</td>\n",
       "    </tr>\n",
       "    <tr>\n",
       "      <th>1</th>\n",
       "      <td>UgzEDUiV3OTrV943p8p4AaABAg</td>\n",
       "      <td>lushen ace</td>\n",
       "      <td>2023-08-04 12:16:23+00:00</td>\n",
       "      <td>problem subsidi kualitas diturunin harga dinai...</td>\n",
       "      <td>negatif</td>\n",
       "    </tr>\n",
       "    <tr>\n",
       "      <th>2</th>\n",
       "      <td>UgwqJqu6JMF4EH2CsVV4AaABAg</td>\n",
       "      <td>Fatih Al-Ayyubi</td>\n",
       "      <td>2023-08-04 10:17:57+00:00</td>\n",
       "      <td>baik kualitas kembang dulu baik kualitas motor...</td>\n",
       "      <td>positif</td>\n",
       "    </tr>\n",
       "    <tr>\n",
       "      <th>3</th>\n",
       "      <td>UgyYicCMR1rKwuOj2Y14AaABAg</td>\n",
       "      <td>yp office</td>\n",
       "      <td>2023-08-04 08:29:54+00:00</td>\n",
       "      <td>model jelek kwalitas buruk harga mahal croot</td>\n",
       "      <td>negatif</td>\n",
       "    </tr>\n",
       "    <tr>\n",
       "      <th>4</th>\n",
       "      <td>UgxKAcLuAwZOQK6es-x4AaABAg</td>\n",
       "      <td>Lembur Kuring</td>\n",
       "      <td>2023-08-04 07:55:37+00:00</td>\n",
       "      <td>syarat ngaco woy anak muda blom punya rumah bl...</td>\n",
       "      <td>negatif</td>\n",
       "    </tr>\n",
       "  </tbody>\n",
       "</table>\n",
       "</div>"
      ],
      "text/plain": [
       "                  id_komentar        nama_akun                    tanggal  \\\n",
       "0  Ugzbll5eyrIy3-gdUUJ4AaABAg          Sqn Ldr  2023-08-06 12:54:49+00:00   \n",
       "1  UgzEDUiV3OTrV943p8p4AaABAg       lushen ace  2023-08-04 12:16:23+00:00   \n",
       "2  UgwqJqu6JMF4EH2CsVV4AaABAg  Fatih Al-Ayyubi  2023-08-04 10:17:57+00:00   \n",
       "3  UgyYicCMR1rKwuOj2Y14AaABAg        yp office  2023-08-04 08:29:54+00:00   \n",
       "4  UgxKAcLuAwZOQK6es-x4AaABAg    Lembur Kuring  2023-08-04 07:55:37+00:00   \n",
       "\n",
       "                                               tweet    label  \n",
       "0  saran sih bikin harga ionic sama kayak brio in...  positif  \n",
       "1  problem subsidi kualitas diturunin harga dinai...  negatif  \n",
       "2  baik kualitas kembang dulu baik kualitas motor...  positif  \n",
       "3       model jelek kwalitas buruk harga mahal croot  negatif  \n",
       "4  syarat ngaco woy anak muda blom punya rumah bl...  negatif  "
      ]
     },
     "execution_count": 24,
     "metadata": {},
     "output_type": "execute_result"
    }
   ],
   "source": [
    "# Apply all preprocessing step except Vectorization\n",
    "def preprocess(tweet):\n",
    "    tweet = regexOperation(tweet)\n",
    "    tweet = tokenize(tweet)\n",
    "    tweet = remove_stopwords(tweet)\n",
    "    tweet = stemming(tweet)\n",
    "    tweet = ' '.join(tweet)\n",
    "    return tweet\n",
    "\n",
    "df['tweet'] = df['tweet'].apply(preprocess)\n",
    "df.head()"
   ]
  },
  {
   "cell_type": "code",
   "execution_count": 25,
   "metadata": {},
   "outputs": [],
   "source": [
    "# Vectorization with TF-IDF\n",
    "vectorizer = TfidfVectorizer(\n",
    "    analyzer='word',\n",
    "    max_features=1000,\n",
    "    ngram_range=(1, 1)\n",
    "    )"
   ]
  },
  {
   "cell_type": "markdown",
   "metadata": {},
   "source": [
    "## ML"
   ]
  },
  {
   "cell_type": "code",
   "execution_count": 26,
   "metadata": {},
   "outputs": [],
   "source": [
    "# # Splitting dataset\n",
    "x_train, x_test, y_train, y_test = train_test_split(df['tweet'], df['label'], test_size=0.2, random_state=42, stratify=df['label'])"
   ]
  },
  {
   "cell_type": "code",
   "execution_count": 27,
   "metadata": {},
   "outputs": [],
   "source": [
    "# Encoding label\n",
    "le = LabelEncoder()\n",
    "\n",
    "y_train_encoded = le.fit_transform(y_train)\n",
    "y_test_encoded = le.transform(y_test)"
   ]
  },
  {
   "cell_type": "code",
   "execution_count": 28,
   "metadata": {},
   "outputs": [],
   "source": [
    "# K-Fold Cross Validation for Hyperparameter Tuning\n",
    "kfolds = StratifiedKFold(n_splits=10, shuffle=True, random_state=1)"
   ]
  },
  {
   "cell_type": "code",
   "execution_count": 29,
   "metadata": {},
   "outputs": [
    {
     "name": "stdout",
     "output_type": "stream",
     "text": [
      "Fitting 10 folds for each of 36 candidates, totalling 360 fits\n"
     ]
    },
    {
     "data": {
      "text/plain": [
       "0.9131671787868443"
      ]
     },
     "execution_count": 29,
     "metadata": {},
     "output_type": "execute_result"
    }
   ],
   "source": [
    "# Train SVM model\n",
    "np.random.seed(1)\n",
    "\n",
    "pipeline_svm = make_pipeline(vectorizer, SVC(probability=True, kernel=\"linear\", class_weight=\"balanced\"))\n",
    "\n",
    "grid_svm = GridSearchCV(pipeline_svm,\n",
    "                    param_grid = {'svc__C': [0.01, 0.1, 1], 'svc__gamma': [1,0.1,0.01,0.001],'svc__kernel': ['rbf', 'poly', 'sigmoid']}, \n",
    "                    cv = kfolds,\n",
    "                    scoring=\"roc_auc\",\n",
    "                    verbose=1,   \n",
    "                    n_jobs=-1) \n",
    "\n",
    "grid_svm.fit(x_train, y_train_encoded)\n",
    "grid_svm.score(x_test, y_test_encoded)"
   ]
  },
  {
   "cell_type": "code",
   "execution_count": 30,
   "metadata": {},
   "outputs": [
    {
     "name": "stdout",
     "output_type": "stream",
     "text": [
      "{'svc__C': 1, 'svc__gamma': 1, 'svc__kernel': 'sigmoid'}\n"
     ]
    }
   ],
   "source": [
    "print(grid_svm.best_params_)"
   ]
  },
  {
   "cell_type": "markdown",
   "metadata": {},
   "source": [
    "## Evaluation"
   ]
  },
  {
   "cell_type": "code",
   "execution_count": 31,
   "metadata": {},
   "outputs": [],
   "source": [
    "def report_results(model, X, y):\n",
    "    pred_proba = model.predict_proba(X)[:, 1]\n",
    "    pred = model.predict(X)        \n",
    "\n",
    "    auc = roc_auc_score(y, pred_proba)\n",
    "    acc = accuracy_score(y, pred)\n",
    "    f1 = f1_score(y, pred)\n",
    "    prec = precision_score(y, pred)\n",
    "    rec = recall_score(y, pred)\n",
    "\n",
    "    cf_matrix = confusion_matrix(y, pred)\n",
    "    group_names = [\"TN\",\"FP\",\"FN\",\"TP\"]\n",
    "    group_counts = [\"{0:0.0f}\".format(value) for value in cf_matrix.flatten()]\n",
    "    group_percentages = [\"{0:.2%}\".format(value) for value in cf_matrix.flatten()/np.sum(cf_matrix)]\n",
    "    labels = [f\"{v1}\\n{v2}\\n{v3}\" for v1, v2, v3 in zip(group_names,group_counts,group_percentages)]\n",
    "    labels = np.asarray(labels).reshape(2,2)\n",
    "    sns.heatmap(cf_matrix, annot=labels, fmt='', cmap=plt.cm.copper)\n",
    "\n",
    "    result = {'auc': auc, 'f1': f1, 'acc': acc, 'precision': prec, 'recall': rec}\n",
    "    return result\n"
   ]
  },
  {
   "cell_type": "code",
   "execution_count": 32,
   "metadata": {},
   "outputs": [
    {
     "data": {
      "text/plain": [
       "{'auc': 0.9131671787868443,\n",
       " 'f1': 0.7570093457943925,\n",
       " 'acc': 0.8109090909090909,\n",
       " 'precision': 0.7168141592920354,\n",
       " 'recall': 0.801980198019802}"
      ]
     },
     "execution_count": 32,
     "metadata": {},
     "output_type": "execute_result"
    },
    {
     "data": {
      "image/png": "[encoded data removed]",
      "text/plain": [
       "<Figure size 640x480 with 2 Axes>"
      ]
     },
     "metadata": {},
     "output_type": "display_data"
    }
   ],
   "source": [
    "report_results(grid_svm.best_estimator_, x_test, y_test_encoded)"
   ]
  },
  {
   "cell_type": "code",
   "execution_count": 33,
   "metadata": {},
   "outputs": [],
   "source": [
    "def get_roc_curve(model, X, y):\n",
    "    pred_proba = model.predict_proba(X)[:, 1]\n",
    "    fpr, tpr, _ = roc_curve(y, pred_proba)\n",
    "    return fpr, tpr"
   ]
  },
  {
   "cell_type": "code",
   "execution_count": 34,
   "metadata": {},
   "outputs": [],
   "source": [
    "roc_svm = get_roc_curve(grid_svm.best_estimator_, x_test, y_test_encoded)"
   ]
  },
  {
   "cell_type": "code",
   "execution_count": 35,
   "metadata": {},
   "outputs": [
    {
     "data": {
      "image/png": "[encoded data removed]",
      "text/plain": [
       "<Figure size 640x480 with 1 Axes>"
      ]
     },
     "metadata": {},
     "output_type": "display_data"
    }
   ],
   "source": [
    "fpr, tpr = roc_svm\n",
    "roc_auc = auc(fpr, tpr)\n",
    "\n",
    "# Plot ROC Curve\n",
    "plt.figure()\n",
    "plt.plot(fpr, tpr, color='darkorange', lw=2, label='ROC curve (area = %0.4f)' % roc_auc)\n",
    "plt.plot([0, 1], [0, 1], color='navy', lw=2, linestyle='--')\n",
    "plt.xlabel('False Positive Rate')\n",
    "plt.ylabel('True Positive Rate')\n",
    "plt.title('ROC Curve')\n",
    "plt.legend(loc='lower right')\n",
    "plt.show()"
   ]
  },
  {
   "cell_type": "markdown",
   "metadata": {},
   "source": [
    "# Test on new data"
   ]
  },
  {
   "cell_type": "code",
   "execution_count": 36,
   "metadata": {},
   "outputs": [
    {
     "data": {
      "text/plain": [
       "array(['positif', 'positif', 'negatif', 'positif'], dtype=object)"
      ]
     },
     "execution_count": 36,
     "metadata": {},
     "output_type": "execute_result"
    }
   ],
   "source": [
    "new_tweets = [\n",
    "    'seharusnya masyarakat harus lebih diberikan pemahaman tentang mobil listrik, karena mobil listrik ini sangat ramah lingkungan. Ayo kita dukung mobil listrik',\n",
    "    'kebijakan insentif mobil listrik ini sangat bagus, karena mobil listrik ini sangat ramah lingkungan. Ayo kita dukung mobil listrik',\n",
    "    'kebijakn ini sangat membuang buang uang negara, mobil listrik ini tidak akan laku di indonesia',\n",
    "    'mobil listrik tidak cocok untuk indonesia, karena jarak tempuhnya yang pendek',\n",
    "]\n",
    "le.inverse_transform(grid_svm.best_estimator_.predict([preprocess(tweet) for tweet in new_tweets]))"
   ]
  }
 ],
 "metadata": {
  "kernelspec": {
   "display_name": ".venv",
   "language": "python",
   "name": "python3"
  },
  "language_info": {
   "codemirror_mode": {
    "name": "ipython",
    "version": 3
   },
   "file_extension": ".py",
   "mimetype": "text/x-python",
   "name": "python",
   "nbconvert_exporter": "python",
   "pygments_lexer": "ipython3",
   "version": "3.11.6"
  }
 },
 "nbformat": 4,
 "nbformat_minor": 2
}
